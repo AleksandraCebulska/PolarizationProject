{
 "cells": [
  {
   "cell_type": "code",
   "execution_count": 1,
   "id": "ae8ec5a0-4425-4845-ae7a-f39f14bdfb21",
   "metadata": {},
   "outputs": [],
   "source": [
    "import pandas as pd"
   ]
  },
  {
   "cell_type": "code",
   "execution_count": 2,
   "id": "b341d924-3198-40a7-bc7e-57f39a431b68",
   "metadata": {},
   "outputs": [],
   "source": [
    "path = r'./labeledtext.csv'\n",
    "datasur = pd.read_csv(path)"
   ]
  },
  {
   "cell_type": "code",
   "execution_count": 3,
   "id": "1c0f56e1-fc3b-4a4f-b71f-2d5c1cad312d",
   "metadata": {},
   "outputs": [
    {
     "data": {
      "text/html": [
       "<div>\n",
       "<style scoped>\n",
       "    .dataframe tbody tr th:only-of-type {\n",
       "        vertical-align: middle;\n",
       "    }\n",
       "\n",
       "    .dataframe tbody tr th {\n",
       "        vertical-align: top;\n",
       "    }\n",
       "\n",
       "    .dataframe thead th {\n",
       "        text-align: right;\n",
       "    }\n",
       "</style>\n",
       "<table border=\"1\" class=\"dataframe\">\n",
       "  <thead>\n",
       "    <tr style=\"text-align: right;\">\n",
       "      <th></th>\n",
       "      <th>title</th>\n",
       "      <th>text</th>\n",
       "      <th>label</th>\n",
       "    </tr>\n",
       "  </thead>\n",
       "  <tbody>\n",
       "    <tr>\n",
       "      <th>0</th>\n",
       "      <td>Defend Democracy Today: Support Fearless, Insi...</td>\n",
       "      <td>While the election has come and gone, the figh...</td>\n",
       "      <td>left</td>\n",
       "    </tr>\n",
       "    <tr>\n",
       "      <th>1</th>\n",
       "      <td>Republican Dan Crenshaw goes down in flames du...</td>\n",
       "      <td>MSNBC host Mehdi Hasan went after Rep. Dan Cre...</td>\n",
       "      <td>left</td>\n",
       "    </tr>\n",
       "    <tr>\n",
       "      <th>2</th>\n",
       "      <td>Rep. Dan Crenshaw purchased stock during pande...</td>\n",
       "      <td>Rep. Dan Crenshaw's (R-Texas) stock purchase h...</td>\n",
       "      <td>left</td>\n",
       "    </tr>\n",
       "    <tr>\n",
       "      <th>3</th>\n",
       "      <td>Sen. Ed Markey applauded for silent dismissal ...</td>\n",
       "      <td>Sen. Ed Markey is the Massachusetts Democrat w...</td>\n",
       "      <td>left</td>\n",
       "    </tr>\n",
       "    <tr>\n",
       "      <th>4</th>\n",
       "      <td>Rep. Dan Crenshaw gets cornered on The View fo...</td>\n",
       "      <td>Rep. Dan Crenshaw (R-TX) appeared on “The View...</td>\n",
       "      <td>left</td>\n",
       "    </tr>\n",
       "  </tbody>\n",
       "</table>\n",
       "</div>"
      ],
      "text/plain": [
       "                                               title  \\\n",
       "0  Defend Democracy Today: Support Fearless, Insi...   \n",
       "1  Republican Dan Crenshaw goes down in flames du...   \n",
       "2  Rep. Dan Crenshaw purchased stock during pande...   \n",
       "3  Sen. Ed Markey applauded for silent dismissal ...   \n",
       "4  Rep. Dan Crenshaw gets cornered on The View fo...   \n",
       "\n",
       "                                                text label  \n",
       "0  While the election has come and gone, the figh...  left  \n",
       "1  MSNBC host Mehdi Hasan went after Rep. Dan Cre...  left  \n",
       "2  Rep. Dan Crenshaw's (R-Texas) stock purchase h...  left  \n",
       "3  Sen. Ed Markey is the Massachusetts Democrat w...  left  \n",
       "4  Rep. Dan Crenshaw (R-TX) appeared on “The View...  left  "
      ]
     },
     "execution_count": 3,
     "metadata": {},
     "output_type": "execute_result"
    }
   ],
   "source": [
    "datasur.head()"
   ]
  },
  {
   "cell_type": "code",
   "execution_count": 5,
   "id": "1a3e3c54-e242-4eeb-84e6-6e5757163826",
   "metadata": {},
   "outputs": [
    {
     "data": {
      "text/html": [
       "<div>\n",
       "<style scoped>\n",
       "    .dataframe tbody tr th:only-of-type {\n",
       "        vertical-align: middle;\n",
       "    }\n",
       "\n",
       "    .dataframe tbody tr th {\n",
       "        vertical-align: top;\n",
       "    }\n",
       "\n",
       "    .dataframe thead th {\n",
       "        text-align: right;\n",
       "    }\n",
       "</style>\n",
       "<table border=\"1\" class=\"dataframe\">\n",
       "  <thead>\n",
       "    <tr style=\"text-align: right;\">\n",
       "      <th></th>\n",
       "      <th>title</th>\n",
       "      <th>text</th>\n",
       "      <th>label</th>\n",
       "    </tr>\n",
       "  </thead>\n",
       "  <tbody>\n",
       "    <tr>\n",
       "      <th>count</th>\n",
       "      <td>4221</td>\n",
       "      <td>3897</td>\n",
       "      <td>4221</td>\n",
       "    </tr>\n",
       "    <tr>\n",
       "      <th>unique</th>\n",
       "      <td>3990</td>\n",
       "      <td>3628</td>\n",
       "      <td>2</td>\n",
       "    </tr>\n",
       "    <tr>\n",
       "      <th>top</th>\n",
       "      <td>National Review</td>\n",
       "      <td>The Christian Broadcasting Network\\n\\nCBN is a...</td>\n",
       "      <td>left</td>\n",
       "    </tr>\n",
       "    <tr>\n",
       "      <th>freq</th>\n",
       "      <td>11</td>\n",
       "      <td>31</td>\n",
       "      <td>2411</td>\n",
       "    </tr>\n",
       "  </tbody>\n",
       "</table>\n",
       "</div>"
      ],
      "text/plain": [
       "                  title                                               text  \\\n",
       "count              4221                                               3897   \n",
       "unique             3990                                               3628   \n",
       "top     National Review  The Christian Broadcasting Network\\n\\nCBN is a...   \n",
       "freq                 11                                                 31   \n",
       "\n",
       "       label  \n",
       "count   4221  \n",
       "unique     2  \n",
       "top     left  \n",
       "freq    2411  "
      ]
     },
     "execution_count": 5,
     "metadata": {},
     "output_type": "execute_result"
    }
   ],
   "source": [
    "datasur.describe()"
   ]
  },
  {
   "cell_type": "code",
   "execution_count": 6,
   "id": "94b49f5b-4f07-42dc-9ffa-deb149bbcabd",
   "metadata": {},
   "outputs": [
    {
     "name": "stdout",
     "output_type": "stream",
     "text": [
      "<class 'pandas.core.frame.DataFrame'>\n",
      "RangeIndex: 4221 entries, 0 to 4220\n",
      "Data columns (total 3 columns):\n",
      " #   Column  Non-Null Count  Dtype \n",
      "---  ------  --------------  ----- \n",
      " 0   title   4221 non-null   object\n",
      " 1   text    3897 non-null   object\n",
      " 2   label   4221 non-null   object\n",
      "dtypes: object(3)\n",
      "memory usage: 99.1+ KB\n"
     ]
    }
   ],
   "source": [
    "datasur.info()"
   ]
  },
  {
   "cell_type": "code",
   "execution_count": 8,
   "id": "f62c9fcc-12b3-4573-9c28-ab98e8f54c4f",
   "metadata": {},
   "outputs": [
    {
     "data": {
      "text/html": [
       "<div>\n",
       "<style scoped>\n",
       "    .dataframe tbody tr th:only-of-type {\n",
       "        vertical-align: middle;\n",
       "    }\n",
       "\n",
       "    .dataframe tbody tr th {\n",
       "        vertical-align: top;\n",
       "    }\n",
       "\n",
       "    .dataframe thead th {\n",
       "        text-align: right;\n",
       "    }\n",
       "</style>\n",
       "<table border=\"1\" class=\"dataframe\">\n",
       "  <thead>\n",
       "    <tr style=\"text-align: right;\">\n",
       "      <th></th>\n",
       "      <th>title</th>\n",
       "      <th>text</th>\n",
       "      <th>label</th>\n",
       "    </tr>\n",
       "  </thead>\n",
       "  <tbody>\n",
       "    <tr>\n",
       "      <th>count</th>\n",
       "      <td>1929</td>\n",
       "      <td>1929</td>\n",
       "      <td>1929</td>\n",
       "    </tr>\n",
       "    <tr>\n",
       "      <th>unique</th>\n",
       "      <td>1791</td>\n",
       "      <td>1779</td>\n",
       "      <td>2</td>\n",
       "    </tr>\n",
       "    <tr>\n",
       "      <th>top</th>\n",
       "      <td>Senate Filibuster: Keep It</td>\n",
       "      <td>The Christian Broadcasting Network\\n\\nCBN is a...</td>\n",
       "      <td>left</td>\n",
       "    </tr>\n",
       "    <tr>\n",
       "      <th>freq</th>\n",
       "      <td>5</td>\n",
       "      <td>31</td>\n",
       "      <td>986</td>\n",
       "    </tr>\n",
       "  </tbody>\n",
       "</table>\n",
       "</div>"
      ],
      "text/plain": [
       "                             title  \\\n",
       "count                         1929   \n",
       "unique                        1791   \n",
       "top     Senate Filibuster: Keep It   \n",
       "freq                             5   \n",
       "\n",
       "                                                     text label  \n",
       "count                                                1929  1929  \n",
       "unique                                               1779     2  \n",
       "top     The Christian Broadcasting Network\\n\\nCBN is a...  left  \n",
       "freq                                                   31   986  "
      ]
     },
     "execution_count": 8,
     "metadata": {},
     "output_type": "execute_result"
    }
   ],
   "source": [
    "dataright = datasur[datasur['label'] == 'right'][:1000]\n",
    "dataleft = datasur[datasur['label'] == 'left'][:1000]\n",
    "data = pd.concat([dataright, dataleft])\n",
    "data.columns = ['title', 'text', 'label']\n",
    "data = data.dropna()\n",
    "data.describe()"
   ]
  },
  {
   "cell_type": "code",
   "execution_count": null,
   "id": "8fb019d2-3fa0-4712-9380-a045cb5f945f",
   "metadata": {},
   "outputs": [],
   "source": []
  }
 ],
 "metadata": {
  "kernelspec": {
   "display_name": "Python 3 (ipykernel)",
   "language": "python",
   "name": "python3"
  },
  "language_info": {
   "codemirror_mode": {
    "name": "ipython",
    "version": 3
   },
   "file_extension": ".py",
   "mimetype": "text/x-python",
   "name": "python",
   "nbconvert_exporter": "python",
   "pygments_lexer": "ipython3",
   "version": "3.8.19"
  }
 },
 "nbformat": 4,
 "nbformat_minor": 5
}
